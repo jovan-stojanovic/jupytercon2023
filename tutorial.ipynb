{
 "cells": [
  {
   "cell_type": "markdown",
   "metadata": {
    "id": "WjJ5TfIhsK0I",
    "tags": []
   },
   "source": [
    "# Installing *dirty_cat* from source"
   ]
  },
  {
   "cell_type": "code",
   "execution_count": 1,
   "metadata": {
    "colab": {
     "base_uri": "https://localhost:8080/"
    },
    "id": "dLNRkjlUebm8",
    "outputId": "47023e1a-b2ed-41c2-a5f9-10b7128f42fb",
    "tags": []
   },
   "outputs": [],
   "source": [
    "# From source:\n",
    "# !git clone https://github.com/dirty-cat/dirty_cat\n",
    "# !pip install ./dirty_cat\n",
    "\n",
    "# From PyPi:\n",
    "# !pip install dirty_cat"
   ]
  },
  {
   "cell_type": "code",
   "execution_count": 2,
   "metadata": {
    "id": "2sCAz1nqQjFj",
    "tags": []
   },
   "outputs": [],
   "source": [
    "import numpy as np\n",
    "import pandas as pd\n",
    "\n",
    "import warnings\n",
    "warnings.filterwarnings(\"ignore\")"
   ]
  },
  {
   "cell_type": "markdown",
   "metadata": {
    "id": "cfLYu_8GsTV1",
    "tags": []
   },
   "source": [
    "# Using the library with an example: employee salaries\n",
    "\n",
    "We will load a dataset which contains information on more than 9000 employees from Montgomery County, Maryland:"
   ]
  },
  {
   "cell_type": "code",
   "execution_count": 3,
   "metadata": {
    "colab": {
     "base_uri": "https://localhost:8080/",
     "height": 548
    },
    "id": "ijY8PYQXiVzp",
    "outputId": "355cc938-50bd-426c-f410-0fa3794084de",
    "tags": []
   },
   "outputs": [
    {
     "data": {
      "text/html": [
       "<div>\n",
       "<style scoped>\n",
       "    .dataframe tbody tr th:only-of-type {\n",
       "        vertical-align: middle;\n",
       "    }\n",
       "\n",
       "    .dataframe tbody tr th {\n",
       "        vertical-align: top;\n",
       "    }\n",
       "\n",
       "    .dataframe thead th {\n",
       "        text-align: right;\n",
       "    }\n",
       "</style>\n",
       "<table border=\"1\" class=\"dataframe\">\n",
       "  <thead>\n",
       "    <tr style=\"text-align: right;\">\n",
       "      <th></th>\n",
       "      <th>gender</th>\n",
       "      <th>department_name</th>\n",
       "      <th>assignment_category</th>\n",
       "      <th>employee_position_title</th>\n",
       "      <th>date_first_hired</th>\n",
       "      <th>year_first_hired</th>\n",
       "    </tr>\n",
       "  </thead>\n",
       "  <tbody>\n",
       "    <tr>\n",
       "      <th>0</th>\n",
       "      <td>F</td>\n",
       "      <td>Department of Police</td>\n",
       "      <td>Fulltime-Regular</td>\n",
       "      <td>Office Services Coordinator</td>\n",
       "      <td>09/22/1986</td>\n",
       "      <td>1986</td>\n",
       "    </tr>\n",
       "    <tr>\n",
       "      <th>1</th>\n",
       "      <td>M</td>\n",
       "      <td>Department of Police</td>\n",
       "      <td>Fulltime-Regular</td>\n",
       "      <td>Master Police Officer</td>\n",
       "      <td>09/12/1988</td>\n",
       "      <td>1988</td>\n",
       "    </tr>\n",
       "    <tr>\n",
       "      <th>2</th>\n",
       "      <td>F</td>\n",
       "      <td>Department of Health and Human Services</td>\n",
       "      <td>Fulltime-Regular</td>\n",
       "      <td>Social Worker IV</td>\n",
       "      <td>11/19/1989</td>\n",
       "      <td>1989</td>\n",
       "    </tr>\n",
       "    <tr>\n",
       "      <th>3</th>\n",
       "      <td>M</td>\n",
       "      <td>Correction and Rehabilitation</td>\n",
       "      <td>Fulltime-Regular</td>\n",
       "      <td>Resident Supervisor II</td>\n",
       "      <td>05/05/2014</td>\n",
       "      <td>2014</td>\n",
       "    </tr>\n",
       "    <tr>\n",
       "      <th>4</th>\n",
       "      <td>M</td>\n",
       "      <td>Department of Housing and Community Affairs</td>\n",
       "      <td>Fulltime-Regular</td>\n",
       "      <td>Planning Specialist III</td>\n",
       "      <td>03/05/2007</td>\n",
       "      <td>2007</td>\n",
       "    </tr>\n",
       "  </tbody>\n",
       "</table>\n",
       "</div>"
      ],
      "text/plain": [
       "  gender                              department_name assignment_category   \n",
       "0      F                         Department of Police    Fulltime-Regular  \\\n",
       "1      M                         Department of Police    Fulltime-Regular   \n",
       "2      F      Department of Health and Human Services    Fulltime-Regular   \n",
       "3      M                Correction and Rehabilitation    Fulltime-Regular   \n",
       "4      M  Department of Housing and Community Affairs    Fulltime-Regular   \n",
       "\n",
       "       employee_position_title date_first_hired  year_first_hired  \n",
       "0  Office Services Coordinator       09/22/1986              1986  \n",
       "1        Master Police Officer       09/12/1988              1988  \n",
       "2             Social Worker IV       11/19/1989              1989  \n",
       "3       Resident Supervisor II       05/05/2014              2014  \n",
       "4      Planning Specialist III       03/05/2007              2007  "
      ]
     },
     "execution_count": 3,
     "metadata": {},
     "output_type": "execute_result"
    }
   ],
   "source": [
    "from dirty_cat.datasets import fetch_employee_salaries\n",
    "\n",
    "dataset = fetch_employee_salaries()\n",
    "# Aliases\n",
    "X = dataset.X\n",
    "y = dataset.y\n",
    "\n",
    "# Pre-processing steps\n",
    "X.drop([\"underfilled_job_title\", \"department\", \"division\"], axis=\"columns\", inplace=True)\n",
    "\n",
    "X.head()"
   ]
  },
  {
   "cell_type": "markdown",
   "metadata": {},
   "source": [
    "Our goal will be to predict the annual salary using this information."
   ]
  },
  {
   "cell_type": "markdown",
   "metadata": {},
   "source": [
    "## **1. Encoding dirty categorical variables**"
   ]
  },
  {
   "cell_type": "markdown",
   "metadata": {},
   "source": [
    "![Encoding](photos/encoding.png)"
   ]
  },
  {
   "cell_type": "markdown",
   "metadata": {
    "id": "TTpnfDpvt5xY"
   },
   "source": [
    "## A problem of similarity"
   ]
  },
  {
   "cell_type": "code",
   "execution_count": 4,
   "metadata": {
    "colab": {
     "base_uri": "https://localhost:8080/",
     "height": 652
    },
    "id": "mcD5JZXfkHEh",
    "outputId": "796785d0-18dd-43be-d6ac-0a3134eded34",
    "tags": []
   },
   "outputs": [
    {
     "data": {
      "text/plain": [
       "3096           Fire/Rescue Captain\n",
       "2271       Firefighter/Rescuer III\n",
       "1471              Social Worker IV\n",
       "1556             Social Worker III\n",
       "6331       Firefighter/Rescuer III\n",
       "8668    Master Firefighter/Rescuer\n",
       "7257       Firefighter/Rescuer III\n",
       "3481       Firefighter/Rescuer III\n",
       "3841    Master Firefighter/Rescuer\n",
       "5568              Social Worker II\n",
       "Name: employee_position_title, dtype: object"
      ]
     },
     "execution_count": 4,
     "metadata": {},
     "output_type": "execute_result"
    }
   ],
   "source": [
    "# Pick a sample with similar employee position titles\n",
    "sample = X[X[\"employee_position_title\"].str.contains(\"Fire|Social\")].sample(n=10, random_state=50).head(10)\n",
    "sample[\"employee_position_title\"]"
   ]
  },
  {
   "cell_type": "markdown",
   "metadata": {
    "id": "Ih7FAUzuvxNj"
   },
   "source": [
    "Let's see how `OneHotEncoder` behaves with those"
   ]
  },
  {
   "cell_type": "code",
   "execution_count": 5,
   "metadata": {
    "colab": {
     "base_uri": "https://localhost:8080/",
     "height": 545
    },
    "id": "RULbPWDxMSsU",
    "outputId": "8a8057eb-144b-4415-ae52-496beafc5a0d",
    "tags": []
   },
   "outputs": [
    {
     "data": {
      "text/html": [
       "<div>\n",
       "<style scoped>\n",
       "    .dataframe tbody tr th:only-of-type {\n",
       "        vertical-align: middle;\n",
       "    }\n",
       "\n",
       "    .dataframe tbody tr th {\n",
       "        vertical-align: top;\n",
       "    }\n",
       "\n",
       "    .dataframe thead th {\n",
       "        text-align: right;\n",
       "    }\n",
       "</style>\n",
       "<table border=\"1\" class=\"dataframe\">\n",
       "  <thead>\n",
       "    <tr style=\"text-align: right;\">\n",
       "      <th></th>\n",
       "      <th>Fire/Rescue Captain</th>\n",
       "      <th>Firefighter/Rescuer III</th>\n",
       "      <th>Master Firefighter/Rescuer</th>\n",
       "      <th>Social Worker II</th>\n",
       "      <th>Social Worker III</th>\n",
       "      <th>Social Worker IV</th>\n",
       "    </tr>\n",
       "    <tr>\n",
       "      <th>employee_position_title</th>\n",
       "      <th></th>\n",
       "      <th></th>\n",
       "      <th></th>\n",
       "      <th></th>\n",
       "      <th></th>\n",
       "      <th></th>\n",
       "    </tr>\n",
       "  </thead>\n",
       "  <tbody>\n",
       "    <tr>\n",
       "      <th>Fire/Rescue Captain</th>\n",
       "      <td>1.0</td>\n",
       "      <td>0.0</td>\n",
       "      <td>0.0</td>\n",
       "      <td>0.0</td>\n",
       "      <td>0.0</td>\n",
       "      <td>0.0</td>\n",
       "    </tr>\n",
       "    <tr>\n",
       "      <th>Firefighter/Rescuer III</th>\n",
       "      <td>0.0</td>\n",
       "      <td>1.0</td>\n",
       "      <td>0.0</td>\n",
       "      <td>0.0</td>\n",
       "      <td>0.0</td>\n",
       "      <td>0.0</td>\n",
       "    </tr>\n",
       "    <tr>\n",
       "      <th>Social Worker IV</th>\n",
       "      <td>0.0</td>\n",
       "      <td>0.0</td>\n",
       "      <td>0.0</td>\n",
       "      <td>0.0</td>\n",
       "      <td>0.0</td>\n",
       "      <td>1.0</td>\n",
       "    </tr>\n",
       "    <tr>\n",
       "      <th>Social Worker III</th>\n",
       "      <td>0.0</td>\n",
       "      <td>0.0</td>\n",
       "      <td>0.0</td>\n",
       "      <td>0.0</td>\n",
       "      <td>1.0</td>\n",
       "      <td>0.0</td>\n",
       "    </tr>\n",
       "    <tr>\n",
       "      <th>Firefighter/Rescuer III</th>\n",
       "      <td>0.0</td>\n",
       "      <td>1.0</td>\n",
       "      <td>0.0</td>\n",
       "      <td>0.0</td>\n",
       "      <td>0.0</td>\n",
       "      <td>0.0</td>\n",
       "    </tr>\n",
       "    <tr>\n",
       "      <th>Master Firefighter/Rescuer</th>\n",
       "      <td>0.0</td>\n",
       "      <td>0.0</td>\n",
       "      <td>1.0</td>\n",
       "      <td>0.0</td>\n",
       "      <td>0.0</td>\n",
       "      <td>0.0</td>\n",
       "    </tr>\n",
       "    <tr>\n",
       "      <th>Firefighter/Rescuer III</th>\n",
       "      <td>0.0</td>\n",
       "      <td>1.0</td>\n",
       "      <td>0.0</td>\n",
       "      <td>0.0</td>\n",
       "      <td>0.0</td>\n",
       "      <td>0.0</td>\n",
       "    </tr>\n",
       "    <tr>\n",
       "      <th>Firefighter/Rescuer III</th>\n",
       "      <td>0.0</td>\n",
       "      <td>1.0</td>\n",
       "      <td>0.0</td>\n",
       "      <td>0.0</td>\n",
       "      <td>0.0</td>\n",
       "      <td>0.0</td>\n",
       "    </tr>\n",
       "    <tr>\n",
       "      <th>Master Firefighter/Rescuer</th>\n",
       "      <td>0.0</td>\n",
       "      <td>0.0</td>\n",
       "      <td>1.0</td>\n",
       "      <td>0.0</td>\n",
       "      <td>0.0</td>\n",
       "      <td>0.0</td>\n",
       "    </tr>\n",
       "    <tr>\n",
       "      <th>Social Worker II</th>\n",
       "      <td>0.0</td>\n",
       "      <td>0.0</td>\n",
       "      <td>0.0</td>\n",
       "      <td>1.0</td>\n",
       "      <td>0.0</td>\n",
       "      <td>0.0</td>\n",
       "    </tr>\n",
       "  </tbody>\n",
       "</table>\n",
       "</div>"
      ],
      "text/plain": [
       "                            Fire/Rescue Captain  Firefighter/Rescuer III   \n",
       "employee_position_title                                                    \n",
       "Fire/Rescue Captain                         1.0                      0.0  \\\n",
       "Firefighter/Rescuer III                     0.0                      1.0   \n",
       "Social Worker IV                            0.0                      0.0   \n",
       "Social Worker III                           0.0                      0.0   \n",
       "Firefighter/Rescuer III                     0.0                      1.0   \n",
       "Master Firefighter/Rescuer                  0.0                      0.0   \n",
       "Firefighter/Rescuer III                     0.0                      1.0   \n",
       "Firefighter/Rescuer III                     0.0                      1.0   \n",
       "Master Firefighter/Rescuer                  0.0                      0.0   \n",
       "Social Worker II                            0.0                      0.0   \n",
       "\n",
       "                            Master Firefighter/Rescuer  Social Worker II   \n",
       "employee_position_title                                                    \n",
       "Fire/Rescue Captain                                0.0               0.0  \\\n",
       "Firefighter/Rescuer III                            0.0               0.0   \n",
       "Social Worker IV                                   0.0               0.0   \n",
       "Social Worker III                                  0.0               0.0   \n",
       "Firefighter/Rescuer III                            0.0               0.0   \n",
       "Master Firefighter/Rescuer                         1.0               0.0   \n",
       "Firefighter/Rescuer III                            0.0               0.0   \n",
       "Firefighter/Rescuer III                            0.0               0.0   \n",
       "Master Firefighter/Rescuer                         1.0               0.0   \n",
       "Social Worker II                                   0.0               1.0   \n",
       "\n",
       "                            Social Worker III  Social Worker IV  \n",
       "employee_position_title                                          \n",
       "Fire/Rescue Captain                       0.0               0.0  \n",
       "Firefighter/Rescuer III                   0.0               0.0  \n",
       "Social Worker IV                          0.0               1.0  \n",
       "Social Worker III                         1.0               0.0  \n",
       "Firefighter/Rescuer III                   0.0               0.0  \n",
       "Master Firefighter/Rescuer                0.0               0.0  \n",
       "Firefighter/Rescuer III                   0.0               0.0  \n",
       "Firefighter/Rescuer III                   0.0               0.0  \n",
       "Master Firefighter/Rescuer                0.0               0.0  \n",
       "Social Worker II                          0.0               0.0  "
      ]
     },
     "execution_count": 5,
     "metadata": {},
     "output_type": "execute_result"
    }
   ],
   "source": [
    "from sklearn.preprocessing import OneHotEncoder\n",
    "\n",
    "ohe = OneHotEncoder(sparse_output=False)\n",
    "s_enc_ohe = ohe.fit_transform(sample[[\"employee_position_title\"]])\n",
    "\n",
    "# Make it look nice in Jupyter by wrapping it in a DataFrame\n",
    "pd.DataFrame(s_enc_ohe, columns=ohe.categories_[0], index=sample[\"employee_position_title\"])"
   ]
  },
  {
   "cell_type": "markdown",
   "metadata": {
    "id": "PAxkzdOySaZg"
   },
   "source": [
    "OneHot gives equidistant encodings!"
   ]
  },
  {
   "cell_type": "markdown",
   "metadata": {
    "id": "oSjM5Dr5t-2B",
    "tags": []
   },
   "source": [
    "# Similarity encoding: easy to understand"
   ]
  },
  {
   "cell_type": "code",
   "execution_count": 6,
   "metadata": {
    "colab": {
     "base_uri": "https://localhost:8080/",
     "height": 545
    },
    "id": "5-M5G2loReD3",
    "outputId": "a294c2e4-8d1f-494b-a1b2-108015b394c4",
    "tags": []
   },
   "outputs": [
    {
     "data": {
      "text/html": [
       "<div>\n",
       "<style scoped>\n",
       "    .dataframe tbody tr th:only-of-type {\n",
       "        vertical-align: middle;\n",
       "    }\n",
       "\n",
       "    .dataframe tbody tr th {\n",
       "        vertical-align: top;\n",
       "    }\n",
       "\n",
       "    .dataframe thead th {\n",
       "        text-align: right;\n",
       "    }\n",
       "</style>\n",
       "<table border=\"1\" class=\"dataframe\">\n",
       "  <thead>\n",
       "    <tr style=\"text-align: right;\">\n",
       "      <th></th>\n",
       "      <th>Fire/Rescue Captain</th>\n",
       "      <th>Firefighter/Rescuer III</th>\n",
       "      <th>Master Firefighter/Rescuer</th>\n",
       "      <th>Social Worker II</th>\n",
       "      <th>Social Worker III</th>\n",
       "      <th>Social Worker IV</th>\n",
       "    </tr>\n",
       "    <tr>\n",
       "      <th>employee_position_title</th>\n",
       "      <th></th>\n",
       "      <th></th>\n",
       "      <th></th>\n",
       "      <th></th>\n",
       "      <th></th>\n",
       "      <th></th>\n",
       "    </tr>\n",
       "  </thead>\n",
       "  <tbody>\n",
       "    <tr>\n",
       "      <th>Fire/Rescue Captain</th>\n",
       "      <td>1.000000</td>\n",
       "      <td>0.235294</td>\n",
       "      <td>0.216216</td>\n",
       "      <td>0.000000</td>\n",
       "      <td>0.000000</td>\n",
       "      <td>0.000000</td>\n",
       "    </tr>\n",
       "    <tr>\n",
       "      <th>Firefighter/Rescuer III</th>\n",
       "      <td>0.235294</td>\n",
       "      <td>1.000000</td>\n",
       "      <td>0.633333</td>\n",
       "      <td>0.103774</td>\n",
       "      <td>0.142857</td>\n",
       "      <td>0.054054</td>\n",
       "    </tr>\n",
       "    <tr>\n",
       "      <th>Social Worker IV</th>\n",
       "      <td>0.000000</td>\n",
       "      <td>0.054054</td>\n",
       "      <td>0.024390</td>\n",
       "      <td>0.777778</td>\n",
       "      <td>0.736842</td>\n",
       "      <td>1.000000</td>\n",
       "    </tr>\n",
       "    <tr>\n",
       "      <th>Social Worker III</th>\n",
       "      <td>0.000000</td>\n",
       "      <td>0.142857</td>\n",
       "      <td>0.023810</td>\n",
       "      <td>0.903846</td>\n",
       "      <td>1.000000</td>\n",
       "      <td>0.736842</td>\n",
       "    </tr>\n",
       "    <tr>\n",
       "      <th>Firefighter/Rescuer III</th>\n",
       "      <td>0.235294</td>\n",
       "      <td>1.000000</td>\n",
       "      <td>0.633333</td>\n",
       "      <td>0.103774</td>\n",
       "      <td>0.142857</td>\n",
       "      <td>0.054054</td>\n",
       "    </tr>\n",
       "    <tr>\n",
       "      <th>Master Firefighter/Rescuer</th>\n",
       "      <td>0.216216</td>\n",
       "      <td>0.633333</td>\n",
       "      <td>1.000000</td>\n",
       "      <td>0.024390</td>\n",
       "      <td>0.023810</td>\n",
       "      <td>0.024390</td>\n",
       "    </tr>\n",
       "    <tr>\n",
       "      <th>Firefighter/Rescuer III</th>\n",
       "      <td>0.235294</td>\n",
       "      <td>1.000000</td>\n",
       "      <td>0.633333</td>\n",
       "      <td>0.103774</td>\n",
       "      <td>0.142857</td>\n",
       "      <td>0.054054</td>\n",
       "    </tr>\n",
       "    <tr>\n",
       "      <th>Firefighter/Rescuer III</th>\n",
       "      <td>0.235294</td>\n",
       "      <td>1.000000</td>\n",
       "      <td>0.633333</td>\n",
       "      <td>0.103774</td>\n",
       "      <td>0.142857</td>\n",
       "      <td>0.054054</td>\n",
       "    </tr>\n",
       "    <tr>\n",
       "      <th>Master Firefighter/Rescuer</th>\n",
       "      <td>0.216216</td>\n",
       "      <td>0.633333</td>\n",
       "      <td>1.000000</td>\n",
       "      <td>0.024390</td>\n",
       "      <td>0.023810</td>\n",
       "      <td>0.024390</td>\n",
       "    </tr>\n",
       "    <tr>\n",
       "      <th>Social Worker II</th>\n",
       "      <td>0.000000</td>\n",
       "      <td>0.103774</td>\n",
       "      <td>0.024390</td>\n",
       "      <td>1.000000</td>\n",
       "      <td>0.903846</td>\n",
       "      <td>0.777778</td>\n",
       "    </tr>\n",
       "  </tbody>\n",
       "</table>\n",
       "</div>"
      ],
      "text/plain": [
       "                            Fire/Rescue Captain  Firefighter/Rescuer III   \n",
       "employee_position_title                                                    \n",
       "Fire/Rescue Captain                    1.000000                 0.235294  \\\n",
       "Firefighter/Rescuer III                0.235294                 1.000000   \n",
       "Social Worker IV                       0.000000                 0.054054   \n",
       "Social Worker III                      0.000000                 0.142857   \n",
       "Firefighter/Rescuer III                0.235294                 1.000000   \n",
       "Master Firefighter/Rescuer             0.216216                 0.633333   \n",
       "Firefighter/Rescuer III                0.235294                 1.000000   \n",
       "Firefighter/Rescuer III                0.235294                 1.000000   \n",
       "Master Firefighter/Rescuer             0.216216                 0.633333   \n",
       "Social Worker II                       0.000000                 0.103774   \n",
       "\n",
       "                            Master Firefighter/Rescuer  Social Worker II   \n",
       "employee_position_title                                                    \n",
       "Fire/Rescue Captain                           0.216216          0.000000  \\\n",
       "Firefighter/Rescuer III                       0.633333          0.103774   \n",
       "Social Worker IV                              0.024390          0.777778   \n",
       "Social Worker III                             0.023810          0.903846   \n",
       "Firefighter/Rescuer III                       0.633333          0.103774   \n",
       "Master Firefighter/Rescuer                    1.000000          0.024390   \n",
       "Firefighter/Rescuer III                       0.633333          0.103774   \n",
       "Firefighter/Rescuer III                       0.633333          0.103774   \n",
       "Master Firefighter/Rescuer                    1.000000          0.024390   \n",
       "Social Worker II                              0.024390          1.000000   \n",
       "\n",
       "                            Social Worker III  Social Worker IV  \n",
       "employee_position_title                                          \n",
       "Fire/Rescue Captain                  0.000000          0.000000  \n",
       "Firefighter/Rescuer III              0.142857          0.054054  \n",
       "Social Worker IV                     0.736842          1.000000  \n",
       "Social Worker III                    1.000000          0.736842  \n",
       "Firefighter/Rescuer III              0.142857          0.054054  \n",
       "Master Firefighter/Rescuer           0.023810          0.024390  \n",
       "Firefighter/Rescuer III              0.142857          0.054054  \n",
       "Firefighter/Rescuer III              0.142857          0.054054  \n",
       "Master Firefighter/Rescuer           0.023810          0.024390  \n",
       "Social Worker II                     0.903846          0.777778  "
      ]
     },
     "execution_count": 6,
     "metadata": {},
     "output_type": "execute_result"
    }
   ],
   "source": [
    "from dirty_cat import SimilarityEncoder\n",
    "\n",
    "sim = SimilarityEncoder()\n",
    "s_enc_sim = sim.fit_transform(sample[[\"employee_position_title\"]])\n",
    "\n",
    "pd.DataFrame(s_enc_sim, columns=sim.categories_[0], index=sample[\"employee_position_title\"])"
   ]
  },
  {
   "cell_type": "markdown",
   "metadata": {
    "id": "l3_xAtajtBjA"
   },
   "source": [
    "The similarity encoding on the other hand encodes the similarities between each category."
   ]
  },
  {
   "cell_type": "markdown",
   "metadata": {},
   "source": [
    "How? Using the **n-gram similarity**:\n",
    "\n",
    "![Encoding](photos/ngram.png)\n",
    "\n",
    "- $Similarity=\\frac{\\text{# n-grams in common}}{\\text{# n-grams in total}}$\n",
    "- Based on substring comparison.\n",
    "- Faster than Levenshtein or Jaro-Winkler with better results."
   ]
  },
  {
   "cell_type": "markdown",
   "metadata": {},
   "source": [
    "In conclusion:\n",
    "\n",
    "The `SimilarityEncoder` is extending the OHE logic based on the n-gram morphological similarity."
   ]
  },
  {
   "cell_type": "markdown",
   "metadata": {
    "id": "gcLcrkV5sEiQ",
    "tags": []
   },
   "source": [
    "# Gamma-Poisson encoding: by topics and interpretable"
   ]
  },
  {
   "cell_type": "code",
   "execution_count": 7,
   "metadata": {
    "colab": {
     "base_uri": "https://localhost:8080/"
    },
    "id": "qbtNhfZ7h2nB",
    "outputId": "e7589f9c-dde5-4384-e974-9b0c9d78e6b7",
    "tags": []
   },
   "outputs": [
    {
     "name": "stdout",
     "output_type": "stream",
     "text": [
      "Shape of encoded vectors: (9228, 10)\n"
     ]
    }
   ],
   "source": [
    "from dirty_cat import GapEncoder\n",
    "\n",
    "gap = GapEncoder(n_components=10, random_state=0)\n",
    "\n",
    "pos_enc = gap.fit_transform(X[[\"employee_position_title\"]])\n",
    "print(f\"Shape of encoded vectors: {pos_enc.shape}\")"
   ]
  },
  {
   "cell_type": "code",
   "execution_count": 8,
   "metadata": {
    "colab": {
     "base_uri": "https://localhost:8080/"
    },
    "id": "fuZ-AJ3YTMA5",
    "outputId": "178f1cc0-5e2b-4b60-e1fe-ef907f8a7ec1",
    "tags": []
   },
   "outputs": [
    {
     "name": "stdout",
     "output_type": "stream",
     "text": [
      "Topic n°0: enforcement, equipment, engineer\n",
      "Topic n°1: firefighter, rescuer, rescue\n",
      "Topic n°2: community, security, health\n",
      "Topic n°3: assistance, assistant, program\n",
      "Topic n°4: correctional, correction, officer\n",
      "Topic n°5: administrative, administration, legislative\n",
      "Topic n°6: manager, school, warehouse\n",
      "Topic n°7: technology, information, planning\n",
      "Topic n°8: services, sergeant, service\n",
      "Topic n°9: operator, bus, laboratory\n"
     ]
    }
   ],
   "source": [
    "# We can print the labels that were infered for each topic\n",
    "topic_labels = gap.get_feature_names_out(n_labels=3)\n",
    "for k, labels in enumerate(topic_labels):\n",
    "    print(f\"Topic n°{k}: {labels}\")"
   ]
  },
  {
   "cell_type": "code",
   "execution_count": 9,
   "metadata": {
    "colab": {
     "base_uri": "https://localhost:8080/",
     "height": 607
    },
    "id": "9txlIvUAf-hu",
    "outputId": "ce1fea60-9c6e-46a3-9d15-2ec4e6a2090f",
    "tags": []
   },
   "outputs": [
    {
     "data": {
      "image/png": "[encoded data removed]",
      "text/plain": [
       "<Figure size 800x600 with 2 Axes>"
      ]
     },
     "metadata": {},
     "output_type": "display_data"
    }
   ],
   "source": [
    "import matplotlib.pyplot as plt\n",
    "\n",
    "encoded_labels = gap.transform(sample[[\"employee_position_title\"]])\n",
    "plt.figure(figsize=(8, 6))\n",
    "plt.imshow(encoded_labels)\n",
    "plt.xlabel(\"Latent topics\", size=12)\n",
    "plt.xticks(range(0, 10), labels=topic_labels, rotation=50, ha=\"right\")\n",
    "plt.ylabel(\"Data entries\", size=12)\n",
    "plt.yticks(range(0, 10), labels=sample[[\"employee_position_title\"]].to_numpy().flatten())\n",
    "plt.colorbar().set_label(label=\"Topic activations\", size=12)\n",
    "plt.tight_layout()\n",
    "plt.show()"
   ]
  },
  {
   "cell_type": "markdown",
   "metadata": {},
   "source": [
    "In conclusion:\n",
    "\n",
    "**The `GapEncoder` extracts latent topics from categories and uses them to evaluate their similarity.**"
   ]
  },
  {
   "cell_type": "markdown",
   "metadata": {
    "id": "OgV-U1YHtrLg",
    "tags": []
   },
   "source": [
    "# Min-hash encoding: very scalable"
   ]
  },
  {
   "cell_type": "code",
   "execution_count": 10,
   "metadata": {
    "tags": []
   },
   "outputs": [
    {
     "name": "stdout",
     "output_type": "stream",
     "text": [
      "[[-1.68665656e+09 -2.11639028e+09 -2.05858329e+09 -1.77567788e+09\n",
      "  -1.87821070e+09 -2.03521942e+09 -2.12762246e+09 -2.08112228e+09\n",
      "  -1.95545218e+09 -1.96116189e+09 -1.94373191e+09 -2.13503461e+09\n",
      "  -2.10304336e+09 -2.08673590e+09 -2.14193060e+09 -2.13444702e+09\n",
      "  -2.12430773e+09 -2.03927821e+09 -2.11408777e+09 -2.12438624e+09\n",
      "  -1.88098640e+09 -1.99278817e+09 -1.95583734e+09 -1.92144450e+09\n",
      "  -1.92871417e+09 -2.04214784e+09 -1.97474453e+09 -2.05544316e+09\n",
      "  -2.11566789e+09 -2.04756635e+09]\n",
      " [-2.08542115e+09 -2.11639028e+09 -1.97891931e+09 -2.10454133e+09\n",
      "  -2.10778672e+09 -1.95945219e+09 -2.12762246e+09 -1.98591637e+09\n",
      "  -1.95545218e+09 -2.08749997e+09 -2.12256192e+09 -2.09905743e+09\n",
      "  -2.10304336e+09 -1.96221092e+09 -2.12974842e+09 -2.13444702e+09\n",
      "  -2.14690062e+09 -2.02900522e+09 -2.11408777e+09 -2.03359712e+09\n",
      "  -2.13424961e+09 -2.11089288e+09 -1.88152643e+09 -2.06338094e+09\n",
      "  -1.92871417e+09 -2.08886909e+09 -2.07602196e+09 -1.97733335e+09\n",
      "  -2.10393143e+09 -2.12853268e+09]\n",
      " [-2.08542115e+09 -2.08633933e+09 -2.00807174e+09 -1.86537367e+09\n",
      "  -2.13959757e+09 -2.08345238e+09 -2.13913702e+09 -2.07813763e+09\n",
      "  -1.90871730e+09 -2.13969239e+09 -2.12256192e+09 -2.00112553e+09\n",
      "  -1.87337720e+09 -2.13189117e+09 -2.12974842e+09 -1.93829868e+09\n",
      "  -2.04392393e+09 -1.96695679e+09 -2.08629812e+09 -2.09280101e+09\n",
      "  -2.13536677e+09 -1.99124761e+09 -2.04300009e+09 -1.75340581e+09\n",
      "  -1.73041487e+09 -1.59324950e+09 -2.12618086e+09 -1.86208997e+09\n",
      "  -2.02864841e+09 -1.95469034e+09]\n",
      " [-2.08542115e+09 -2.08633933e+09 -2.00807174e+09 -1.86537367e+09\n",
      "  -2.13959757e+09 -1.93090274e+09 -2.13913702e+09 -2.07813763e+09\n",
      "  -1.83953251e+09 -2.13969239e+09 -2.12256192e+09 -1.95659464e+09\n",
      "  -2.01422861e+09 -2.01864522e+09 -2.12974842e+09 -1.93829868e+09\n",
      "  -2.04392393e+09 -1.96695679e+09 -2.01761494e+09 -1.95793038e+09\n",
      "  -2.13536677e+09 -2.10982626e+09 -2.04300009e+09 -2.03627774e+09\n",
      "  -1.82565885e+09 -1.59324950e+09 -2.12618086e+09 -1.86208997e+09\n",
      "  -2.02864841e+09 -1.95469034e+09]\n",
      " [-2.08542115e+09 -2.11639028e+09 -1.97891931e+09 -2.10454133e+09\n",
      "  -2.10778672e+09 -1.95945219e+09 -2.12762246e+09 -1.98591637e+09\n",
      "  -1.95545218e+09 -2.08749997e+09 -2.12256192e+09 -2.09905743e+09\n",
      "  -2.10304336e+09 -1.96221092e+09 -2.12974842e+09 -2.13444702e+09\n",
      "  -2.14690062e+09 -2.02900522e+09 -2.11408777e+09 -2.03359712e+09\n",
      "  -2.13424961e+09 -2.11089288e+09 -1.88152643e+09 -2.06338094e+09\n",
      "  -1.92871417e+09 -2.08886909e+09 -2.07602196e+09 -1.97733335e+09\n",
      "  -2.10393143e+09 -2.12853268e+09]\n",
      " [-2.09875936e+09 -2.11639028e+09 -2.04195868e+09 -2.10454133e+09\n",
      "  -2.05360253e+09 -1.95945219e+09 -2.12762246e+09 -1.97632870e+09\n",
      "  -1.95545218e+09 -2.08749997e+09 -2.08824058e+09 -2.11943422e+09\n",
      "  -2.10304336e+09 -1.96221092e+09 -2.12974842e+09 -2.13444702e+09\n",
      "  -2.14690062e+09 -2.02900522e+09 -2.11408777e+09 -2.03359712e+09\n",
      "  -2.13424961e+09 -2.11214896e+09 -1.88152643e+09 -2.06338094e+09\n",
      "  -1.92871417e+09 -2.08886909e+09 -2.07602196e+09 -1.97733335e+09\n",
      "  -2.10393143e+09 -2.12853268e+09]\n",
      " [-2.08542115e+09 -2.11639028e+09 -1.97891931e+09 -2.10454133e+09\n",
      "  -2.10778672e+09 -1.95945219e+09 -2.12762246e+09 -1.98591637e+09\n",
      "  -1.95545218e+09 -2.08749997e+09 -2.12256192e+09 -2.09905743e+09\n",
      "  -2.10304336e+09 -1.96221092e+09 -2.12974842e+09 -2.13444702e+09\n",
      "  -2.14690062e+09 -2.02900522e+09 -2.11408777e+09 -2.03359712e+09\n",
      "  -2.13424961e+09 -2.11089288e+09 -1.88152643e+09 -2.06338094e+09\n",
      "  -1.92871417e+09 -2.08886909e+09 -2.07602196e+09 -1.97733335e+09\n",
      "  -2.10393143e+09 -2.12853268e+09]\n",
      " [-2.08542115e+09 -2.11639028e+09 -1.97891931e+09 -2.10454133e+09\n",
      "  -2.10778672e+09 -1.95945219e+09 -2.12762246e+09 -1.98591637e+09\n",
      "  -1.95545218e+09 -2.08749997e+09 -2.12256192e+09 -2.09905743e+09\n",
      "  -2.10304336e+09 -1.96221092e+09 -2.12974842e+09 -2.13444702e+09\n",
      "  -2.14690062e+09 -2.02900522e+09 -2.11408777e+09 -2.03359712e+09\n",
      "  -2.13424961e+09 -2.11089288e+09 -1.88152643e+09 -2.06338094e+09\n",
      "  -1.92871417e+09 -2.08886909e+09 -2.07602196e+09 -1.97733335e+09\n",
      "  -2.10393143e+09 -2.12853268e+09]\n",
      " [-2.09875936e+09 -2.11639028e+09 -2.04195868e+09 -2.10454133e+09\n",
      "  -2.05360253e+09 -1.95945219e+09 -2.12762246e+09 -1.97632870e+09\n",
      "  -1.95545218e+09 -2.08749997e+09 -2.08824058e+09 -2.11943422e+09\n",
      "  -2.10304336e+09 -1.96221092e+09 -2.12974842e+09 -2.13444702e+09\n",
      "  -2.14690062e+09 -2.02900522e+09 -2.11408777e+09 -2.03359712e+09\n",
      "  -2.13424961e+09 -2.11214896e+09 -1.88152643e+09 -2.06338094e+09\n",
      "  -1.92871417e+09 -2.08886909e+09 -2.07602196e+09 -1.97733335e+09\n",
      "  -2.10393143e+09 -2.12853268e+09]\n",
      " [-2.08542115e+09 -2.08633933e+09 -2.00807174e+09 -1.86537367e+09\n",
      "  -2.13959757e+09 -1.93090274e+09 -2.13913702e+09 -2.07813763e+09\n",
      "  -1.83953251e+09 -2.13969239e+09 -2.12256192e+09 -1.95659464e+09\n",
      "  -2.01422861e+09 -2.01864522e+09 -2.12974842e+09 -1.93829868e+09\n",
      "  -2.04392393e+09 -1.96695679e+09 -2.01761494e+09 -1.95793038e+09\n",
      "  -2.13536677e+09 -1.99124761e+09 -2.04300009e+09 -2.03627774e+09\n",
      "  -1.82565885e+09 -1.59324950e+09 -2.12618086e+09 -1.86208997e+09\n",
      "  -2.02864841e+09 -1.95469034e+09]]\n"
     ]
    }
   ],
   "source": [
    "from dirty_cat import MinHashEncoder\n",
    "\n",
    "minhash = MinHashEncoder()\n",
    "minhash_enc = minhash.fit_transform(sample[[\"employee_position_title\"]])\n",
    "\n",
    "print(minhash_enc)"
   ]
  },
  {
   "cell_type": "markdown",
   "metadata": {},
   "source": [
    "The resulting encoded category will be the intersection of its components. \n",
    "\n",
    "![MinHashEncoder](photos/minhash2.png)\n",
    "\n",
    "Source: *P.Cerda, G.Varoquaux. Encoding high-cardinality string categorical variables (2019)*"
   ]
  },
  {
   "cell_type": "markdown",
   "metadata": {},
   "source": [
    "**CCL: The `MinHashEncoder` is an extremely efficient encoding method based on the minhash function.**"
   ]
  },
  {
   "cell_type": "markdown",
   "metadata": {
    "id": "zEJpbhLiqRoI",
    "tags": []
   },
   "source": [
    "# Comparing encoding methods\n",
    "\n",
    "We'll run a pipeline with each encoding method we just saw, and a learner, here a `HistGradientBoostingRegressor`."
   ]
  },
  {
   "cell_type": "code",
   "execution_count": 11,
   "metadata": {
    "colab": {
     "base_uri": "https://localhost:8080/"
    },
    "id": "w4ehrNKWXIVP",
    "outputId": "2aa0cea9-2ba9-454d-ee3d-99d0d8350be8",
    "tags": []
   },
   "outputs": [],
   "source": [
    "from sklearn.model_selection import cross_validate\n",
    "from sklearn.pipeline import make_pipeline\n",
    "from sklearn.compose import make_column_transformer\n",
    "from sklearn.ensemble import HistGradientBoostingRegressor\n",
    "from sklearn.model_selection import ShuffleSplit\n",
    "\n",
    "all_scores = dict()\n",
    "all_times = dict()\n",
    "\n",
    "ohe = OneHotEncoder(handle_unknown=\"ignore\", sparse_output=False)\n",
    "\n",
    "for method in [\n",
    "    ohe,\n",
    "    SimilarityEncoder(),\n",
    "    GapEncoder(n_components=50),\n",
    "    MinHashEncoder(n_components=100),\n",
    "]:\n",
    "    name = method.__class__.__name__\n",
    "    encoder = make_column_transformer(\n",
    "        (ohe, [\"gender\", \"department_name\", \"assignment_category\"]),\n",
    "        (\"passthrough\", [\"year_first_hired\"]),\n",
    "        (method, [\"employee_position_title\"]),\n",
    "        remainder=\"drop\",\n",
    "    )\n",
    "\n",
    "    pipeline = make_pipeline(encoder, HistGradientBoostingRegressor())\n",
    "    results = cross_validate(pipeline, X, y, cv=ShuffleSplit(n_splits=3, random_state=0))\n",
    "    scores = results[\"test_score\"]\n",
    "    times = results[\"fit_time\"]\n",
    "    all_times[name] = times\n",
    "    all_scores[name] = scores"
   ]
  },
  {
   "cell_type": "code",
   "execution_count": 12,
   "metadata": {
    "colab": {
     "base_uri": "https://localhost:8080/",
     "height": 607
    },
    "id": "rwC3PHOMrwMT",
    "outputId": "6eb96ef4-70dd-44f7-e400-a907052ac78f",
    "tags": []
   },
   "outputs": [
    {
     "data": {
      "image/png": "[encoded data removed]",
      "text/plain": [
       "<Figure size 1000x600 with 2 Axes>"
      ]
     },
     "metadata": {},
     "output_type": "display_data"
    }
   ],
   "source": [
    "from seaborn import boxplot\n",
    "\n",
    "_, (ax1, ax2) = plt.subplots(nrows=2, figsize=(10, 6))\n",
    "\n",
    "ax = boxplot(data=pd.DataFrame(all_scores), orient=\"h\", ax=ax1)\n",
    "ax1.set_xlabel(\"Prediction score (R2)\", size=20)\n",
    "[t.set(size=20) for t in ax1.get_yticklabels()]\n",
    "\n",
    "\n",
    "boxplot(data=pd.DataFrame(all_times), orient=\"h\", ax=ax2)\n",
    "ax2.set_xlabel(\"Computation time (s)\", size=20)\n",
    "[t.set(size=20) for t in ax2.get_yticklabels()]\n",
    "\n",
    "plt.tight_layout()"
   ]
  },
  {
   "cell_type": "markdown",
   "metadata": {
    "id": "agSgPf_WuRpu",
    "tags": []
   },
   "source": [
    "# Automating the boring stuff with the `TableVectorizer`\n",
    "\n",
    "Typically, when we want to assemble different encoders for our dataset, we'll use the `ColumnTransformer`:"
   ]
  },
  {
   "cell_type": "code",
   "execution_count": 13,
   "metadata": {
    "id": "wp2RbsVwzUYB",
    "tags": []
   },
   "outputs": [],
   "source": [
    "from sklearn.model_selection import train_test_split\n",
    "\n",
    "X_train, X_test, y_train, y_test = train_test_split(X, y, random_state=0)"
   ]
  },
  {
   "cell_type": "code",
   "execution_count": 14,
   "metadata": {
    "id": "2pxnvGQth6Qt",
    "tags": []
   },
   "outputs": [],
   "source": [
    "from dirty_cat import TableVectorizer\n",
    "\n",
    "pipeline_tv = make_pipeline(\n",
    "    TableVectorizer(),\n",
    "    HistGradientBoostingRegressor(),\n",
    ")"
   ]
  },
  {
   "cell_type": "code",
   "execution_count": 15,
   "metadata": {
    "colab": {
     "base_uri": "https://localhost:8080/"
    },
    "id": "ceE1ZkMxy7HN",
    "outputId": "9964d1ed-a2d2-4698-b367-294b343ee5e2",
    "tags": []
   },
   "outputs": [
    {
     "name": "stdout",
     "output_type": "stream",
     "text": [
      "TableVectorizer pipeline score: 0.9202007124831934\n"
     ]
    }
   ],
   "source": [
    "pipeline_tv.fit(X_train, y_train)\n",
    "print(\"TableVectorizer pipeline score:\", pipeline_tv.score(X_test, y_test))"
   ]
  },
  {
   "cell_type": "markdown",
   "metadata": {
    "id": "Y_8boQIrz55d"
   },
   "source": [
    "What does it do? Let's see:"
   ]
  },
  {
   "cell_type": "code",
   "execution_count": 16,
   "metadata": {
    "colab": {
     "base_uri": "https://localhost:8080/"
    },
    "id": "dvdXgJM80DU3",
    "outputId": "3142df89-37f1-45f4-a4df-f14ccbf0a042",
    "tags": []
   },
   "outputs": [
    {
     "name": "stdout",
     "output_type": "stream",
     "text": [
      "Pretty printing has been turned OFF\n"
     ]
    }
   ],
   "source": [
    "pprint(pipeline_tv[0].transformers_)"
   ]
  },
  {
   "cell_type": "markdown",
   "metadata": {
    "id": "cQhNw8Km1ZJe"
   },
   "source": [
    "It recognized and used the datetimes (`date_first_hired`) automatically, and encoded it with `dirty_cat.DatetimeEncoder()` 😉"
   ]
  },
  {
   "cell_type": "markdown",
   "metadata": {
    "id": "SBC-oUOk11wo"
   },
   "source": [
    "The `TableVectorizer` is simpler to use than `ColumnTransformer`, and works out of the box for most dirty tables.\n",
    "It can be easily customized and supports numerical, categorical and datetime features."
   ]
  },
  {
   "cell_type": "markdown",
   "metadata": {},
   "source": [
    "Conclusion:\n",
    "- The `TableVectorizer` is best to use as it's automatically taking care of the encoding choices."
   ]
  },
  {
   "cell_type": "markdown",
   "metadata": {
    "tags": []
   },
   "source": [
    "# **2. Fuzzy joining tables with dirty data**"
   ]
  },
  {
   "cell_type": "markdown",
   "metadata": {},
   "source": [
    "![fj](photos/fj.png)"
   ]
  },
  {
   "cell_type": "markdown",
   "metadata": {
    "id": "J2p1bxntuXtK"
   },
   "source": [
    "## Better `pandas.merge`: `fuzzy_join`"
   ]
  },
  {
   "cell_type": "code",
   "execution_count": 17,
   "metadata": {
    "colab": {
     "base_uri": "https://localhost:8080/",
     "height": 206
    },
    "id": "869N1FusjyZI",
    "outputId": "92cbbe4d-03c8-4abf-93f1-fba3abef16d9",
    "tags": []
   },
   "outputs": [
    {
     "data": {
      "text/html": [
       "<div>\n",
       "<style scoped>\n",
       "    .dataframe tbody tr th:only-of-type {\n",
       "        vertical-align: middle;\n",
       "    }\n",
       "\n",
       "    .dataframe tbody tr th {\n",
       "        vertical-align: top;\n",
       "    }\n",
       "\n",
       "    .dataframe thead th {\n",
       "        text-align: right;\n",
       "    }\n",
       "</style>\n",
       "<table border=\"1\" class=\"dataframe\">\n",
       "  <thead>\n",
       "    <tr style=\"text-align: right;\">\n",
       "      <th></th>\n",
       "      <th>agencyName</th>\n",
       "      <th>jobClass</th>\n",
       "      <th>annualSalary</th>\n",
       "    </tr>\n",
       "  </thead>\n",
       "  <tbody>\n",
       "    <tr>\n",
       "      <th>4035</th>\n",
       "      <td>Wage Commissioner</td>\n",
       "      <td>PROGRAM COMPLIANCE OFFICER II</td>\n",
       "      <td>50100.000000</td>\n",
       "    </tr>\n",
       "    <tr>\n",
       "      <th>4036</th>\n",
       "      <td>War Memorial Commission</td>\n",
       "      <td>BUILDING REPAIRER I</td>\n",
       "      <td>34745.000000</td>\n",
       "    </tr>\n",
       "    <tr>\n",
       "      <th>4037</th>\n",
       "      <td>War Memorial Commission</td>\n",
       "      <td>EXECECUTIVE DIRECTOR WMC</td>\n",
       "      <td>60600.000000</td>\n",
       "    </tr>\n",
       "    <tr>\n",
       "      <th>4038</th>\n",
       "      <td>War Memorial Commission</td>\n",
       "      <td>OFFICE ASST III</td>\n",
       "      <td>35755.000000</td>\n",
       "    </tr>\n",
       "    <tr>\n",
       "      <th>4039</th>\n",
       "      <td>Youth Cust</td>\n",
       "      <td>JTPA TRAINEE MOMR</td>\n",
       "      <td>15144.928177</td>\n",
       "    </tr>\n",
       "  </tbody>\n",
       "</table>\n",
       "</div>"
      ],
      "text/plain": [
       "                   agencyName                       jobClass  annualSalary\n",
       "4035        Wage Commissioner  PROGRAM COMPLIANCE OFFICER II  50100.000000\n",
       "4036  War Memorial Commission            BUILDING REPAIRER I  34745.000000\n",
       "4037  War Memorial Commission       EXECECUTIVE DIRECTOR WMC  60600.000000\n",
       "4038  War Memorial Commission                OFFICE ASST III  35755.000000\n",
       "4039               Youth Cust              JTPA TRAINEE MOMR  15144.928177"
      ]
     },
     "execution_count": 17,
     "metadata": {},
     "output_type": "execute_result"
    }
   ],
   "source": [
    "baltimore = pd.read_csv(\"https://data.baltimorecity.gov/datasets/baltimore::baltimore-city-employee-salaries.csv\")[[\"agencyName\", \"jobClass\", \"annualSalary\"]]\n",
    "baltimore = baltimore.groupby(by=[\"agencyName\", \"jobClass\"]).mean().reset_index()\n",
    "baltimore.tail()"
   ]
  },
  {
   "cell_type": "code",
   "execution_count": 18,
   "metadata": {
    "tags": []
   },
   "outputs": [
    {
     "data": {
      "text/html": [
       "<div>\n",
       "<style scoped>\n",
       "    .dataframe tbody tr th:only-of-type {\n",
       "        vertical-align: middle;\n",
       "    }\n",
       "\n",
       "    .dataframe tbody tr th {\n",
       "        vertical-align: top;\n",
       "    }\n",
       "\n",
       "    .dataframe thead th {\n",
       "        text-align: right;\n",
       "    }\n",
       "</style>\n",
       "<table border=\"1\" class=\"dataframe\">\n",
       "  <thead>\n",
       "    <tr style=\"text-align: right;\">\n",
       "      <th></th>\n",
       "      <th>gender</th>\n",
       "      <th>department_name</th>\n",
       "      <th>assignment_category</th>\n",
       "      <th>employee_position_title</th>\n",
       "      <th>date_first_hired</th>\n",
       "      <th>year_first_hired</th>\n",
       "      <th>agencyName</th>\n",
       "      <th>jobClass</th>\n",
       "      <th>annualSalary</th>\n",
       "    </tr>\n",
       "  </thead>\n",
       "  <tbody>\n",
       "  </tbody>\n",
       "</table>\n",
       "</div>"
      ],
      "text/plain": [
       "Empty DataFrame\n",
       "Columns: [gender, department_name, assignment_category, employee_position_title, date_first_hired, year_first_hired, agencyName, jobClass, annualSalary]\n",
       "Index: []"
      ]
     },
     "execution_count": 18,
     "metadata": {},
     "output_type": "execute_result"
    }
   ],
   "source": [
    "pd.merge(X, baltimore, left_on='employee_position_title', right_on='jobClass')"
   ]
  },
  {
   "cell_type": "code",
   "execution_count": 19,
   "metadata": {
    "colab": {
     "base_uri": "https://localhost:8080/",
     "height": 582
    },
    "id": "Ww742ezYluwL",
    "outputId": "805e4c20-da2f-4ec4-b252-55e065ac3b91",
    "tags": []
   },
   "outputs": [
    {
     "data": {
      "text/html": [
       "<div>\n",
       "<style scoped>\n",
       "    .dataframe tbody tr th:only-of-type {\n",
       "        vertical-align: middle;\n",
       "    }\n",
       "\n",
       "    .dataframe tbody tr th {\n",
       "        vertical-align: top;\n",
       "    }\n",
       "\n",
       "    .dataframe thead th {\n",
       "        text-align: right;\n",
       "    }\n",
       "</style>\n",
       "<table border=\"1\" class=\"dataframe\">\n",
       "  <thead>\n",
       "    <tr style=\"text-align: right;\">\n",
       "      <th></th>\n",
       "      <th>gender</th>\n",
       "      <th>department_name</th>\n",
       "      <th>assignment_category</th>\n",
       "      <th>employee_position_title</th>\n",
       "      <th>date_first_hired</th>\n",
       "      <th>year_first_hired</th>\n",
       "      <th>agencyName</th>\n",
       "      <th>jobClass</th>\n",
       "      <th>annualSalary</th>\n",
       "      <th>matching_score</th>\n",
       "    </tr>\n",
       "  </thead>\n",
       "  <tbody>\n",
       "    <tr>\n",
       "      <th>0</th>\n",
       "      <td>F</td>\n",
       "      <td>Department of Police</td>\n",
       "      <td>Fulltime-Regular</td>\n",
       "      <td>Office Services Coordinator</td>\n",
       "      <td>09/22/1986</td>\n",
       "      <td>1986</td>\n",
       "      <td>Health Department</td>\n",
       "      <td>SOCIAL SERVICES COORDINATOR</td>\n",
       "      <td>39549.860870</td>\n",
       "      <td>0.751711</td>\n",
       "    </tr>\n",
       "    <tr>\n",
       "      <th>1</th>\n",
       "      <td>M</td>\n",
       "      <td>Department of Police</td>\n",
       "      <td>Fulltime-Regular</td>\n",
       "      <td>Master Police Officer</td>\n",
       "      <td>09/12/1988</td>\n",
       "      <td>1988</td>\n",
       "      <td>Police Department</td>\n",
       "      <td>POLICE OFFICER</td>\n",
       "      <td>67604.241798</td>\n",
       "      <td>0.734803</td>\n",
       "    </tr>\n",
       "    <tr>\n",
       "      <th>2</th>\n",
       "      <td>F</td>\n",
       "      <td>Department of Health and Human Services</td>\n",
       "      <td>Fulltime-Regular</td>\n",
       "      <td>Social Worker IV</td>\n",
       "      <td>11/19/1989</td>\n",
       "      <td>1989</td>\n",
       "      <td>Health Department</td>\n",
       "      <td>SOCIAL WORKER II</td>\n",
       "      <td>55703.962963</td>\n",
       "      <td>0.808423</td>\n",
       "    </tr>\n",
       "    <tr>\n",
       "      <th>3</th>\n",
       "      <td>M</td>\n",
       "      <td>Correction and Rehabilitation</td>\n",
       "      <td>Fulltime-Regular</td>\n",
       "      <td>Resident Supervisor II</td>\n",
       "      <td>05/05/2014</td>\n",
       "      <td>2014</td>\n",
       "      <td>Baltimore City Office of Information and Techn...</td>\n",
       "      <td>OFFICE SUPERVISOR</td>\n",
       "      <td>49036.375000</td>\n",
       "      <td>0.631426</td>\n",
       "    </tr>\n",
       "    <tr>\n",
       "      <th>4</th>\n",
       "      <td>M</td>\n",
       "      <td>Department of Housing and Community Affairs</td>\n",
       "      <td>Fulltime-Regular</td>\n",
       "      <td>Planning Specialist III</td>\n",
       "      <td>03/05/2007</td>\n",
       "      <td>2007</td>\n",
       "      <td>Planning</td>\n",
       "      <td>CAPITAL PLANNING ANALYST</td>\n",
       "      <td>66160.000000</td>\n",
       "      <td>0.627890</td>\n",
       "    </tr>\n",
       "  </tbody>\n",
       "</table>\n",
       "</div>"
      ],
      "text/plain": [
       "  gender                              department_name assignment_category   \n",
       "0      F                         Department of Police    Fulltime-Regular  \\\n",
       "1      M                         Department of Police    Fulltime-Regular   \n",
       "2      F      Department of Health and Human Services    Fulltime-Regular   \n",
       "3      M                Correction and Rehabilitation    Fulltime-Regular   \n",
       "4      M  Department of Housing and Community Affairs    Fulltime-Regular   \n",
       "\n",
       "       employee_position_title date_first_hired  year_first_hired   \n",
       "0  Office Services Coordinator       09/22/1986              1986  \\\n",
       "1        Master Police Officer       09/12/1988              1988   \n",
       "2             Social Worker IV       11/19/1989              1989   \n",
       "3       Resident Supervisor II       05/05/2014              2014   \n",
       "4      Planning Specialist III       03/05/2007              2007   \n",
       "\n",
       "                                          agencyName   \n",
       "0                                  Health Department  \\\n",
       "1                                  Police Department   \n",
       "2                                  Health Department   \n",
       "3  Baltimore City Office of Information and Techn...   \n",
       "4                                           Planning   \n",
       "\n",
       "                      jobClass  annualSalary  matching_score  \n",
       "0  SOCIAL SERVICES COORDINATOR  39549.860870        0.751711  \n",
       "1               POLICE OFFICER  67604.241798        0.734803  \n",
       "2             SOCIAL WORKER II  55703.962963        0.808423  \n",
       "3            OFFICE SUPERVISOR  49036.375000        0.631426  \n",
       "4     CAPITAL PLANNING ANALYST  66160.000000        0.627890  "
      ]
     },
     "execution_count": 19,
     "metadata": {},
     "output_type": "execute_result"
    }
   ],
   "source": [
    "from dirty_cat import fuzzy_join\n",
    "\n",
    "X2 = fuzzy_join(X, baltimore, left_on='employee_position_title', right_on='jobClass', return_score=True)\n",
    "X2.head()"
   ]
  },
  {
   "cell_type": "code",
   "execution_count": 20,
   "metadata": {
    "tags": []
   },
   "outputs": [
    {
     "data": {
      "text/html": [
       "<div>\n",
       "<style scoped>\n",
       "    .dataframe tbody tr th:only-of-type {\n",
       "        vertical-align: middle;\n",
       "    }\n",
       "\n",
       "    .dataframe tbody tr th {\n",
       "        vertical-align: top;\n",
       "    }\n",
       "\n",
       "    .dataframe thead th {\n",
       "        text-align: right;\n",
       "    }\n",
       "</style>\n",
       "<table border=\"1\" class=\"dataframe\">\n",
       "  <thead>\n",
       "    <tr style=\"text-align: right;\">\n",
       "      <th></th>\n",
       "      <th>employee_position_title</th>\n",
       "      <th>jobClass</th>\n",
       "      <th>matching_score</th>\n",
       "    </tr>\n",
       "  </thead>\n",
       "  <tbody>\n",
       "    <tr>\n",
       "      <th>7870</th>\n",
       "      <td>Locksmith</td>\n",
       "      <td>PROPERTY LOCATION SUPV</td>\n",
       "      <td>0.500000</td>\n",
       "    </tr>\n",
       "    <tr>\n",
       "      <th>5102</th>\n",
       "      <td>Locksmith</td>\n",
       "      <td>PROPERTY LOCATION SUPV</td>\n",
       "      <td>0.500000</td>\n",
       "    </tr>\n",
       "    <tr>\n",
       "      <th>5880</th>\n",
       "      <td>Messenger-Clerk</td>\n",
       "      <td>CHIEF CLERK CC</td>\n",
       "      <td>0.501368</td>\n",
       "    </tr>\n",
       "    <tr>\n",
       "      <th>7038</th>\n",
       "      <td>Dental Hygienist</td>\n",
       "      <td>DENTAL ASST BOARD QUALIFIED</td>\n",
       "      <td>0.518178</td>\n",
       "    </tr>\n",
       "    <tr>\n",
       "      <th>4639</th>\n",
       "      <td>Dental Hygienist</td>\n",
       "      <td>DENTAL ASST BOARD QUALIFIED</td>\n",
       "      <td>0.518178</td>\n",
       "    </tr>\n",
       "    <tr>\n",
       "      <th>5565</th>\n",
       "      <td>Dental Hygienist</td>\n",
       "      <td>DENTAL ASST BOARD QUALIFIED</td>\n",
       "      <td>0.518178</td>\n",
       "    </tr>\n",
       "    <tr>\n",
       "      <th>7199</th>\n",
       "      <td>Photo/Digtal Image Technician</td>\n",
       "      <td>CRIME LABORATORY PHOTO</td>\n",
       "      <td>0.525364</td>\n",
       "    </tr>\n",
       "    <tr>\n",
       "      <th>6884</th>\n",
       "      <td>Lead Revenue Counter</td>\n",
       "      <td>OIG LEAD AGENT</td>\n",
       "      <td>0.532517</td>\n",
       "    </tr>\n",
       "    <tr>\n",
       "      <th>7824</th>\n",
       "      <td>Revenue Counter</td>\n",
       "      <td>FIRE PREVENTION SPECIALIST</td>\n",
       "      <td>0.533048</td>\n",
       "    </tr>\n",
       "    <tr>\n",
       "      <th>2895</th>\n",
       "      <td>Revenue Counter</td>\n",
       "      <td>FIRE PREVENTION SPECIALIST</td>\n",
       "      <td>0.533048</td>\n",
       "    </tr>\n",
       "  </tbody>\n",
       "</table>\n",
       "</div>"
      ],
      "text/plain": [
       "            employee_position_title                     jobClass   \n",
       "7870                      Locksmith       PROPERTY LOCATION SUPV  \\\n",
       "5102                      Locksmith       PROPERTY LOCATION SUPV   \n",
       "5880                Messenger-Clerk               CHIEF CLERK CC   \n",
       "7038               Dental Hygienist  DENTAL ASST BOARD QUALIFIED   \n",
       "4639               Dental Hygienist  DENTAL ASST BOARD QUALIFIED   \n",
       "5565               Dental Hygienist  DENTAL ASST BOARD QUALIFIED   \n",
       "7199  Photo/Digtal Image Technician       CRIME LABORATORY PHOTO   \n",
       "6884           Lead Revenue Counter               OIG LEAD AGENT   \n",
       "7824                Revenue Counter   FIRE PREVENTION SPECIALIST   \n",
       "2895                Revenue Counter   FIRE PREVENTION SPECIALIST   \n",
       "\n",
       "      matching_score  \n",
       "7870        0.500000  \n",
       "5102        0.500000  \n",
       "5880        0.501368  \n",
       "7038        0.518178  \n",
       "4639        0.518178  \n",
       "5565        0.518178  \n",
       "7199        0.525364  \n",
       "6884        0.532517  \n",
       "7824        0.533048  \n",
       "2895        0.533048  "
      ]
     },
     "execution_count": 20,
     "metadata": {},
     "output_type": "execute_result"
    }
   ],
   "source": [
    "X2[[\"employee_position_title\", \"jobClass\", \"matching_score\"]].sort_values(\"matching_score\").head(10)"
   ]
  },
  {
   "cell_type": "code",
   "execution_count": 21,
   "metadata": {
    "colab": {
     "base_uri": "https://localhost:8080/",
     "height": 582
    },
    "id": "Riy1HN2YtHcH",
    "outputId": "ae4f6e81-fcdd-49d0-9eb9-a364de572fb2",
    "tags": []
   },
   "outputs": [
    {
     "data": {
      "text/html": [
       "<div>\n",
       "<style scoped>\n",
       "    .dataframe tbody tr th:only-of-type {\n",
       "        vertical-align: middle;\n",
       "    }\n",
       "\n",
       "    .dataframe tbody tr th {\n",
       "        vertical-align: top;\n",
       "    }\n",
       "\n",
       "    .dataframe thead th {\n",
       "        text-align: right;\n",
       "    }\n",
       "</style>\n",
       "<table border=\"1\" class=\"dataframe\">\n",
       "  <thead>\n",
       "    <tr style=\"text-align: right;\">\n",
       "      <th></th>\n",
       "      <th>gender</th>\n",
       "      <th>department_name</th>\n",
       "      <th>assignment_category</th>\n",
       "      <th>employee_position_title</th>\n",
       "      <th>date_first_hired</th>\n",
       "      <th>year_first_hired</th>\n",
       "      <th>agencyName</th>\n",
       "      <th>jobClass</th>\n",
       "      <th>annualSalary</th>\n",
       "    </tr>\n",
       "  </thead>\n",
       "  <tbody>\n",
       "    <tr>\n",
       "      <th>0</th>\n",
       "      <td>F</td>\n",
       "      <td>Department of Police</td>\n",
       "      <td>Fulltime-Regular</td>\n",
       "      <td>Office Services Coordinator</td>\n",
       "      <td>09/22/1986</td>\n",
       "      <td>1986</td>\n",
       "      <td>Health Department</td>\n",
       "      <td>SOCIAL SERVICES COORDINATOR</td>\n",
       "      <td>39549.860870</td>\n",
       "    </tr>\n",
       "    <tr>\n",
       "      <th>1</th>\n",
       "      <td>M</td>\n",
       "      <td>Department of Police</td>\n",
       "      <td>Fulltime-Regular</td>\n",
       "      <td>Master Police Officer</td>\n",
       "      <td>09/12/1988</td>\n",
       "      <td>1988</td>\n",
       "      <td>Police Department</td>\n",
       "      <td>POLICE OFFICER</td>\n",
       "      <td>67604.241798</td>\n",
       "    </tr>\n",
       "    <tr>\n",
       "      <th>2</th>\n",
       "      <td>F</td>\n",
       "      <td>Department of Health and Human Services</td>\n",
       "      <td>Fulltime-Regular</td>\n",
       "      <td>Social Worker IV</td>\n",
       "      <td>11/19/1989</td>\n",
       "      <td>1989</td>\n",
       "      <td>Health Department</td>\n",
       "      <td>SOCIAL WORKER II</td>\n",
       "      <td>55703.962963</td>\n",
       "    </tr>\n",
       "    <tr>\n",
       "      <th>3</th>\n",
       "      <td>M</td>\n",
       "      <td>Correction and Rehabilitation</td>\n",
       "      <td>Fulltime-Regular</td>\n",
       "      <td>Resident Supervisor II</td>\n",
       "      <td>05/05/2014</td>\n",
       "      <td>2014</td>\n",
       "      <td>Baltimore City Office of Information and Techn...</td>\n",
       "      <td>OFFICE SUPERVISOR</td>\n",
       "      <td>49036.375000</td>\n",
       "    </tr>\n",
       "    <tr>\n",
       "      <th>4</th>\n",
       "      <td>M</td>\n",
       "      <td>Department of Housing and Community Affairs</td>\n",
       "      <td>Fulltime-Regular</td>\n",
       "      <td>Planning Specialist III</td>\n",
       "      <td>03/05/2007</td>\n",
       "      <td>2007</td>\n",
       "      <td>Planning</td>\n",
       "      <td>CAPITAL PLANNING ANALYST</td>\n",
       "      <td>66160.000000</td>\n",
       "    </tr>\n",
       "  </tbody>\n",
       "</table>\n",
       "</div>"
      ],
      "text/plain": [
       "  gender                              department_name assignment_category   \n",
       "0      F                         Department of Police    Fulltime-Regular  \\\n",
       "1      M                         Department of Police    Fulltime-Regular   \n",
       "2      F      Department of Health and Human Services    Fulltime-Regular   \n",
       "3      M                Correction and Rehabilitation    Fulltime-Regular   \n",
       "4      M  Department of Housing and Community Affairs    Fulltime-Regular   \n",
       "\n",
       "       employee_position_title date_first_hired  year_first_hired   \n",
       "0  Office Services Coordinator       09/22/1986              1986  \\\n",
       "1        Master Police Officer       09/12/1988              1988   \n",
       "2             Social Worker IV       11/19/1989              1989   \n",
       "3       Resident Supervisor II       05/05/2014              2014   \n",
       "4      Planning Specialist III       03/05/2007              2007   \n",
       "\n",
       "                                          agencyName   \n",
       "0                                  Health Department  \\\n",
       "1                                  Police Department   \n",
       "2                                  Health Department   \n",
       "3  Baltimore City Office of Information and Techn...   \n",
       "4                                           Planning   \n",
       "\n",
       "                      jobClass  annualSalary  \n",
       "0  SOCIAL SERVICES COORDINATOR  39549.860870  \n",
       "1               POLICE OFFICER  67604.241798  \n",
       "2             SOCIAL WORKER II  55703.962963  \n",
       "3            OFFICE SUPERVISOR  49036.375000  \n",
       "4     CAPITAL PLANNING ANALYST  66160.000000  "
      ]
     },
     "execution_count": 21,
     "metadata": {},
     "output_type": "execute_result"
    }
   ],
   "source": [
    "X2_bis = fuzzy_join(X, baltimore, left_on='employee_position_title', right_on='jobClass', match_score=0.6)\n",
    "X2_bis.head()"
   ]
  },
  {
   "cell_type": "code",
   "execution_count": 22,
   "metadata": {
    "id": "ddRYZLgblslm",
    "tags": []
   },
   "outputs": [
    {
     "name": "stdout",
     "output_type": "stream",
     "text": [
      "TableVectorizer with fuzzy_join pipeline score: 0.9322060836359344\n"
     ]
    }
   ],
   "source": [
    "X2_train, X2_test, y2_train, y2_test = train_test_split(X2_bis, y, random_state=0)\n",
    "\n",
    "pipeline_fj = make_pipeline(\n",
    "    TableVectorizer(),\n",
    "    HistGradientBoostingRegressor(),\n",
    ")\n",
    "\n",
    "pipeline_fj.fit(X2_train, y2_train)\n",
    "\n",
    "print(\"TableVectorizer with fuzzy_join pipeline score:\", pipeline_fj.score(X2_test, y2_test))"
   ]
  },
  {
   "cell_type": "markdown",
   "metadata": {
    "id": "bRa5e4BPueub",
    "tags": []
   },
   "source": [
    "# Automating the boring stuff: multiple `fuzzy_join`'s with `FeatureAugmenter`"
   ]
  },
  {
   "cell_type": "markdown",
   "metadata": {
    "id": "Uog9PVW9tXys"
   },
   "source": [
    "Case of a datalake: often the case in real production settings (big companies or public institutions).\n",
    "\n",
    "You need to join multiple tables on the initial one to add information (feature augmentation)."
   ]
  },
  {
   "cell_type": "code",
   "execution_count": 23,
   "metadata": {
    "colab": {
     "base_uri": "https://localhost:8080/",
     "height": 206
    },
    "id": "kQSGxtV1h_6y",
    "outputId": "dacc5756-b266-4ac3-a271-bb120800ea84",
    "tags": []
   },
   "outputs": [
    {
     "data": {
      "text/html": [
       "<div>\n",
       "<style scoped>\n",
       "    .dataframe tbody tr th:only-of-type {\n",
       "        vertical-align: middle;\n",
       "    }\n",
       "\n",
       "    .dataframe tbody tr th {\n",
       "        vertical-align: top;\n",
       "    }\n",
       "\n",
       "    .dataframe thead th {\n",
       "        text-align: right;\n",
       "    }\n",
       "</style>\n",
       "<table border=\"1\" class=\"dataframe\">\n",
       "  <thead>\n",
       "    <tr style=\"text-align: right;\">\n",
       "      <th></th>\n",
       "      <th>Year</th>\n",
       "      <th>Population</th>\n",
       "    </tr>\n",
       "  </thead>\n",
       "  <tbody>\n",
       "    <tr>\n",
       "      <th>122</th>\n",
       "      <td>2011</td>\n",
       "      <td>5828289.0</td>\n",
       "    </tr>\n",
       "    <tr>\n",
       "      <th>123</th>\n",
       "      <td>2012</td>\n",
       "      <td>5884563.0</td>\n",
       "    </tr>\n",
       "    <tr>\n",
       "      <th>124</th>\n",
       "      <td>2014</td>\n",
       "      <td>5976407.0</td>\n",
       "    </tr>\n",
       "    <tr>\n",
       "      <th>125</th>\n",
       "      <td>2013</td>\n",
       "      <td>5928814.0</td>\n",
       "    </tr>\n",
       "    <tr>\n",
       "      <th>126</th>\n",
       "      <td>2015</td>\n",
       "      <td>6006401.0</td>\n",
       "    </tr>\n",
       "  </tbody>\n",
       "</table>\n",
       "</div>"
      ],
      "text/plain": [
       "     Year  Population\n",
       "122  2011   5828289.0\n",
       "123  2012   5884563.0\n",
       "124  2014   5976407.0\n",
       "125  2013   5928814.0\n",
       "126  2015   6006401.0"
      ]
     },
     "execution_count": 23,
     "metadata": {},
     "output_type": "execute_result"
    }
   ],
   "source": [
    "population = pd.read_csv(\"https://opendata.maryland.gov/api/views/sk8g-4e43/rows.csv?accessType=DOWNLOAD\")\n",
    "population.tail()"
   ]
  },
  {
   "cell_type": "code",
   "execution_count": 24,
   "metadata": {
    "colab": {
     "base_uri": "https://localhost:8080/",
     "height": 206
    },
    "id": "b-cqSC-ktvxz",
    "outputId": "b85538e0-c116-4ca3-f7cf-7fadf05854f7",
    "tags": []
   },
   "outputs": [
    {
     "data": {
      "text/html": [
       "<div>\n",
       "<style scoped>\n",
       "    .dataframe tbody tr th:only-of-type {\n",
       "        vertical-align: middle;\n",
       "    }\n",
       "\n",
       "    .dataframe tbody tr th {\n",
       "        vertical-align: top;\n",
       "    }\n",
       "\n",
       "    .dataframe thead th {\n",
       "        text-align: right;\n",
       "    }\n",
       "</style>\n",
       "<table border=\"1\" class=\"dataframe\">\n",
       "  <thead>\n",
       "    <tr style=\"text-align: right;\">\n",
       "      <th></th>\n",
       "      <th>State.Minimum.Wage.2020.Dollars</th>\n",
       "      <th>Year</th>\n",
       "      <th>State</th>\n",
       "    </tr>\n",
       "  </thead>\n",
       "  <tbody>\n",
       "    <tr>\n",
       "      <th>21</th>\n",
       "      <td>7.43</td>\n",
       "      <td>1968</td>\n",
       "      <td>Maryland</td>\n",
       "    </tr>\n",
       "    <tr>\n",
       "      <th>75</th>\n",
       "      <td>7.05</td>\n",
       "      <td>1969</td>\n",
       "      <td>Maryland</td>\n",
       "    </tr>\n",
       "    <tr>\n",
       "      <th>129</th>\n",
       "      <td>8.67</td>\n",
       "      <td>1970</td>\n",
       "      <td>Maryland</td>\n",
       "    </tr>\n",
       "    <tr>\n",
       "      <th>183</th>\n",
       "      <td>8.30</td>\n",
       "      <td>1971</td>\n",
       "      <td>Maryland</td>\n",
       "    </tr>\n",
       "    <tr>\n",
       "      <th>237</th>\n",
       "      <td>9.90</td>\n",
       "      <td>1972</td>\n",
       "      <td>Maryland</td>\n",
       "    </tr>\n",
       "  </tbody>\n",
       "</table>\n",
       "</div>"
      ],
      "text/plain": [
       "     State.Minimum.Wage.2020.Dollars  Year     State\n",
       "21                              7.43  1968  Maryland\n",
       "75                              7.05  1969  Maryland\n",
       "129                             8.67  1970  Maryland\n",
       "183                             8.30  1971  Maryland\n",
       "237                             9.90  1972  Maryland"
      ]
     },
     "execution_count": 24,
     "metadata": {},
     "output_type": "execute_result"
    }
   ],
   "source": [
    "minimum_wage = pd.read_csv(\"https://raw.githubusercontent.com/Lislejoem/Minimum-Wage-by-State-1968-to-2020/master/Minimum%20Wage%20Data.csv\", encoding='latin')\n",
    "minimum_wage = minimum_wage[minimum_wage[\"State\"] == 'Maryland'][[\"State.Minimum.Wage.2020.Dollars\", \"Year\", \"State\"]]\n",
    "minimum_wage.head()"
   ]
  },
  {
   "cell_type": "markdown",
   "metadata": {
    "id": "0q8QgHJ5y-2N"
   },
   "source": [
    "Repeating `fuzzy_join`'s over and over for each new table tables is painful:"
   ]
  },
  {
   "cell_type": "markdown",
   "metadata": {
    "id": "hd9Uc1MlzcKG"
   },
   "source": [
    "We now have a class we can introduce in our ML pipeline!"
   ]
  },
  {
   "cell_type": "code",
   "execution_count": 25,
   "metadata": {
    "id": "GaEQlTcYsZaS",
    "tags": []
   },
   "outputs": [],
   "source": [
    "from dirty_cat import FeatureAugmenter\n",
    "\n",
    "faugmenter = FeatureAugmenter(tables=[\n",
    "        (population, \"Year\"),\n",
    "        (minimum_wage, \"Year\"),\n",
    "    ],\n",
    "    main_key=\"year_first_hired\",\n",
    ")"
   ]
  },
  {
   "cell_type": "code",
   "execution_count": 26,
   "metadata": {
    "colab": {
     "base_uri": "https://localhost:8080/"
    },
    "id": "YHgN3NoF1YZX",
    "outputId": "33677d30-fa05-4be2-fc71-246baf32351a",
    "tags": []
   },
   "outputs": [
    {
     "name": "stdout",
     "output_type": "stream",
     "text": [
      "TableVectorizer with fuzzy_join pipeline score: 0.922047400946294\n"
     ]
    }
   ],
   "source": [
    "pipeline_fj = make_pipeline(\n",
    "    faugmenter,\n",
    "    TableVectorizer(),\n",
    "    HistGradientBoostingRegressor(),\n",
    ")\n",
    "\n",
    "pipeline_fj.fit(X2_train, y2_train)\n",
    "\n",
    "print(\"TableVectorizer with fuzzy_join pipeline score:\", pipeline_fj.score(X2_test, y2_test))"
   ]
  },
  {
   "cell_type": "markdown",
   "metadata": {},
   "source": [
    "Conclusion:\n",
    "- The `fuzzy_join` is a function that allows you to join two tables on imprecise correspondences. It is based on the n-gram morphological similarity of categories.\n",
    "- The `FeatureAugmenter` can do this on multiple tables on a common join key. scikit-learn compatible, can be used in a pipeline."
   ]
  },
  {
   "cell_type": "markdown",
   "metadata": {},
   "source": [
    "# **3. Deduplicating dirty categorical variables**"
   ]
  },
  {
   "cell_type": "markdown",
   "metadata": {
    "tags": []
   },
   "source": [
    "![deduplicating](photos/deduplicated.png)"
   ]
  },
  {
   "cell_type": "markdown",
   "metadata": {
    "id": "ULKZG1kIuwuS"
   },
   "source": [
    "## Clean typos from your data with deduplication"
   ]
  },
  {
   "cell_type": "code",
   "execution_count": 27,
   "metadata": {
    "colab": {
     "base_uri": "https://localhost:8080/"
    },
    "id": "6Fa0M9XKY9tO",
    "outputId": "c2f7fa44-c89d-466d-a3a8-0e9b392a993a",
    "tags": []
   },
   "outputs": [
    {
     "data": {
      "text/plain": [
       "['blacw', 'black', 'black', 'black', 'black', 'fhite', 'white', 'white', 'white', 'white']"
      ]
     },
     "execution_count": 27,
     "metadata": {},
     "output_type": "execute_result"
    }
   ],
   "source": [
    "from dirty_cat import deduplicate\n",
    "from dirty_cat.datasets import make_deduplication_data\n",
    "\n",
    "duplicated = make_deduplication_data(examples=['black', 'white'],\n",
    "                                     entries_per_example=[5, 5],\n",
    "                                     prob_mistake_per_letter=0.3,\n",
    "                                     random_state=42)\n",
    "duplicated"
   ]
  },
  {
   "cell_type": "code",
   "execution_count": 28,
   "metadata": {
    "colab": {
     "base_uri": "https://localhost:8080/"
    },
    "id": "6F8H4DeEwCgZ",
    "outputId": "ccea6053-34d0-41b5-9057-6c7ede978b58",
    "tags": []
   },
   "outputs": [
    {
     "data": {
      "text/plain": [
       "blacw    black\n",
       "black    black\n",
       "black    black\n",
       "black    black\n",
       "black    black\n",
       "fhite    white\n",
       "white    white\n",
       "white    white\n",
       "white    white\n",
       "white    white\n",
       "dtype: object"
      ]
     },
     "execution_count": 28,
     "metadata": {},
     "output_type": "execute_result"
    }
   ],
   "source": [
    "deduplicate(duplicated)"
   ]
  },
  {
   "cell_type": "code",
   "execution_count": 29,
   "metadata": {
    "tags": []
   },
   "outputs": [
    {
     "data": {
      "text/plain": [
       "Fire/Rescue Captain               Fire/Rescue Captain\n",
       "Firefighter/Rescuer III       Firefighter/Rescuer III\n",
       "Social Worker IV                     Social Worker II\n",
       "Social Worker III                    Social Worker II\n",
       "Firefighter/Rescuer III       Firefighter/Rescuer III\n",
       "Master Firefighter/Rescuer    Firefighter/Rescuer III\n",
       "Firefighter/Rescuer III       Firefighter/Rescuer III\n",
       "Firefighter/Rescuer III       Firefighter/Rescuer III\n",
       "Master Firefighter/Rescuer    Firefighter/Rescuer III\n",
       "Social Worker II                     Social Worker II\n",
       "dtype: object"
      ]
     },
     "execution_count": 29,
     "metadata": {},
     "output_type": "execute_result"
    }
   ],
   "source": [
    "deduplicate(sample[\"employee_position_title\"])"
   ]
  },
  {
   "cell_type": "markdown",
   "metadata": {},
   "source": [
    "Good for getting back into the OHE use case. Beware of potential losses of information."
   ]
  }
 ],
 "metadata": {
  "colab": {
   "provenance": []
  },
  "kernelspec": {
   "display_name": "Python 3 (ipykernel)",
   "language": "python",
   "name": "python3"
  },
  "language_info": {
   "codemirror_mode": {
    "name": "ipython",
    "version": 3
   },
   "file_extension": ".py",
   "mimetype": "text/x-python",
   "name": "python",
   "nbconvert_exporter": "python",
   "pygments_lexer": "ipython3",
   "version": "3.11.2"
  }
 },
 "nbformat": 4,
 "nbformat_minor": 4
}
